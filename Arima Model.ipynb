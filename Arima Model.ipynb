{
 "cells": [
  {
   "cell_type": "markdown",
   "id": "d56ece99",
   "metadata": {},
   "source": [
    "# Arima Model"
   ]
  },
  {
   "cell_type": "code",
   "execution_count": 1,
   "id": "c51f0bea",
   "metadata": {
    "ExecuteTime": {
     "end_time": "2023-03-30T16:15:27.476933Z",
     "start_time": "2023-03-30T16:15:18.631758Z"
    }
   },
   "outputs": [
    {
     "name": "stdout",
     "output_type": "stream",
     "text": [
      "Requirement already satisfied: pmdarima in c:\\users\\shivdas\\anaconda3\\lib\\site-packages (2.0.3)\n",
      "Requirement already satisfied: Cython!=0.29.18,!=0.29.31,>=0.29 in c:\\users\\shivdas\\anaconda3\\lib\\site-packages (from pmdarima) (0.29.32)\n",
      "Requirement already satisfied: urllib3 in c:\\users\\shivdas\\anaconda3\\lib\\site-packages (from pmdarima) (1.26.11)\n",
      "Requirement already satisfied: scipy>=1.3.2 in c:\\users\\shivdas\\anaconda3\\lib\\site-packages (from pmdarima) (1.9.1)\n",
      "Requirement already satisfied: numpy>=1.21.2 in c:\\users\\shivdas\\anaconda3\\lib\\site-packages (from pmdarima) (1.21.5)\n",
      "Requirement already satisfied: scikit-learn>=0.22 in c:\\users\\shivdas\\anaconda3\\lib\\site-packages (from pmdarima) (1.0.2)\n",
      "Requirement already satisfied: pandas>=0.19 in c:\\users\\shivdas\\anaconda3\\lib\\site-packages (from pmdarima) (1.4.4)\n",
      "Requirement already satisfied: statsmodels>=0.13.2 in c:\\users\\shivdas\\anaconda3\\lib\\site-packages (from pmdarima) (0.13.2)\n",
      "Requirement already satisfied: joblib>=0.11 in c:\\users\\shivdas\\anaconda3\\lib\\site-packages (from pmdarima) (1.0.1)\n",
      "Requirement already satisfied: setuptools!=50.0.0,>=38.6.0 in c:\\users\\shivdas\\anaconda3\\lib\\site-packages (from pmdarima) (63.4.1)\n",
      "Requirement already satisfied: python-dateutil>=2.8.1 in c:\\users\\shivdas\\anaconda3\\lib\\site-packages (from pandas>=0.19->pmdarima) (2.8.2)\n",
      "Requirement already satisfied: pytz>=2020.1 in c:\\users\\shivdas\\anaconda3\\lib\\site-packages (from pandas>=0.19->pmdarima) (2022.1)\n",
      "Requirement already satisfied: threadpoolctl>=2.0.0 in c:\\users\\shivdas\\anaconda3\\lib\\site-packages (from scikit-learn>=0.22->pmdarima) (2.2.0)\n",
      "Requirement already satisfied: patsy>=0.5.2 in c:\\users\\shivdas\\anaconda3\\lib\\site-packages (from statsmodels>=0.13.2->pmdarima) (0.5.2)\n",
      "Requirement already satisfied: packaging>=21.3 in c:\\users\\shivdas\\anaconda3\\lib\\site-packages (from statsmodels>=0.13.2->pmdarima) (21.3)\n",
      "Requirement already satisfied: pyparsing!=3.0.5,>=2.0.2 in c:\\users\\shivdas\\anaconda3\\lib\\site-packages (from packaging>=21.3->statsmodels>=0.13.2->pmdarima) (3.0.9)\n",
      "Requirement already satisfied: six in c:\\users\\shivdas\\anaconda3\\lib\\site-packages (from patsy>=0.5.2->statsmodels>=0.13.2->pmdarima) (1.16.0)\n"
     ]
    }
   ],
   "source": [
    "!pip install pmdarima "
   ]
  },
  {
   "cell_type": "code",
   "execution_count": 2,
   "id": "51e27976",
   "metadata": {
    "ExecuteTime": {
     "end_time": "2023-03-30T16:15:35.227944Z",
     "start_time": "2023-03-30T16:15:27.485204Z"
    }
   },
   "outputs": [],
   "source": [
    "import pandas as pd \n",
    "import numpy as np \n",
    "from statsmodels.tsa.stattools import adfuller\n",
    "from statsmodels.tsa.arima.model import ARIMA\n",
    "from pmdarima import auto_arima\n",
    "from sklearn.metrics import mean_squared_error\n",
    "import matplotlib.pyplot as plt \n",
    "import seaborn as sns\n",
    "import warnings\n",
    "warnings.filterwarnings('ignore')"
   ]
  },
  {
   "cell_type": "code",
   "execution_count": 3,
   "id": "cbdaa03b",
   "metadata": {
    "ExecuteTime": {
     "end_time": "2023-03-30T16:15:35.328160Z",
     "start_time": "2023-03-30T16:15:35.233414Z"
    }
   },
   "outputs": [
    {
     "data": {
      "text/html": [
       "<div>\n",
       "<style scoped>\n",
       "    .dataframe tbody tr th:only-of-type {\n",
       "        vertical-align: middle;\n",
       "    }\n",
       "\n",
       "    .dataframe tbody tr th {\n",
       "        vertical-align: top;\n",
       "    }\n",
       "\n",
       "    .dataframe thead th {\n",
       "        text-align: right;\n",
       "    }\n",
       "</style>\n",
       "<table border=\"1\" class=\"dataframe\">\n",
       "  <thead>\n",
       "    <tr style=\"text-align: right;\">\n",
       "      <th></th>\n",
       "      <th>DATE</th>\n",
       "      <th>MinTemp</th>\n",
       "      <th>MaxTemp</th>\n",
       "      <th>AvgTemp</th>\n",
       "      <th>Sunrise</th>\n",
       "      <th>Sunset</th>\n",
       "    </tr>\n",
       "  </thead>\n",
       "  <tbody>\n",
       "    <tr>\n",
       "      <th>0</th>\n",
       "      <td>2014-01-01</td>\n",
       "      <td>33.0</td>\n",
       "      <td>46.0</td>\n",
       "      <td>40.0</td>\n",
       "      <td>657</td>\n",
       "      <td>1756</td>\n",
       "    </tr>\n",
       "    <tr>\n",
       "      <th>1</th>\n",
       "      <td>2014-01-02</td>\n",
       "      <td>35.0</td>\n",
       "      <td>50.0</td>\n",
       "      <td>43.0</td>\n",
       "      <td>657</td>\n",
       "      <td>1756</td>\n",
       "    </tr>\n",
       "    <tr>\n",
       "      <th>2</th>\n",
       "      <td>2014-01-03</td>\n",
       "      <td>36.0</td>\n",
       "      <td>45.0</td>\n",
       "      <td>41.0</td>\n",
       "      <td>657</td>\n",
       "      <td>1757</td>\n",
       "    </tr>\n",
       "    <tr>\n",
       "      <th>3</th>\n",
       "      <td>2014-01-04</td>\n",
       "      <td>32.0</td>\n",
       "      <td>41.0</td>\n",
       "      <td>37.0</td>\n",
       "      <td>658</td>\n",
       "      <td>1757</td>\n",
       "    </tr>\n",
       "    <tr>\n",
       "      <th>4</th>\n",
       "      <td>2014-01-05</td>\n",
       "      <td>24.0</td>\n",
       "      <td>38.0</td>\n",
       "      <td>31.0</td>\n",
       "      <td>658</td>\n",
       "      <td>1758</td>\n",
       "    </tr>\n",
       "    <tr>\n",
       "      <th>...</th>\n",
       "      <td>...</td>\n",
       "      <td>...</td>\n",
       "      <td>...</td>\n",
       "      <td>...</td>\n",
       "      <td>...</td>\n",
       "      <td>...</td>\n",
       "    </tr>\n",
       "    <tr>\n",
       "      <th>1816</th>\n",
       "      <td>2018-12-26</td>\n",
       "      <td>35.0</td>\n",
       "      <td>45.0</td>\n",
       "      <td>40.0</td>\n",
       "      <td>654</td>\n",
       "      <td>1752</td>\n",
       "    </tr>\n",
       "    <tr>\n",
       "      <th>1817</th>\n",
       "      <td>2018-12-27</td>\n",
       "      <td>33.0</td>\n",
       "      <td>44.0</td>\n",
       "      <td>39.0</td>\n",
       "      <td>655</td>\n",
       "      <td>1752</td>\n",
       "    </tr>\n",
       "    <tr>\n",
       "      <th>1818</th>\n",
       "      <td>2018-12-28</td>\n",
       "      <td>33.0</td>\n",
       "      <td>47.0</td>\n",
       "      <td>40.0</td>\n",
       "      <td>655</td>\n",
       "      <td>1753</td>\n",
       "    </tr>\n",
       "    <tr>\n",
       "      <th>1819</th>\n",
       "      <td>2018-12-29</td>\n",
       "      <td>36.0</td>\n",
       "      <td>47.0</td>\n",
       "      <td>42.0</td>\n",
       "      <td>655</td>\n",
       "      <td>1753</td>\n",
       "    </tr>\n",
       "    <tr>\n",
       "      <th>1820</th>\n",
       "      <td>2018-12-30</td>\n",
       "      <td>39.0</td>\n",
       "      <td>52.0</td>\n",
       "      <td>46.0</td>\n",
       "      <td>656</td>\n",
       "      <td>1754</td>\n",
       "    </tr>\n",
       "  </tbody>\n",
       "</table>\n",
       "<p>1821 rows × 6 columns</p>\n",
       "</div>"
      ],
      "text/plain": [
       "            DATE  MinTemp  MaxTemp  AvgTemp  Sunrise  Sunset\n",
       "0     2014-01-01     33.0     46.0     40.0      657    1756\n",
       "1     2014-01-02     35.0     50.0     43.0      657    1756\n",
       "2     2014-01-03     36.0     45.0     41.0      657    1757\n",
       "3     2014-01-04     32.0     41.0     37.0      658    1757\n",
       "4     2014-01-05     24.0     38.0     31.0      658    1758\n",
       "...          ...      ...      ...      ...      ...     ...\n",
       "1816  2018-12-26     35.0     45.0     40.0      654    1752\n",
       "1817  2018-12-27     33.0     44.0     39.0      655    1752\n",
       "1818  2018-12-28     33.0     47.0     40.0      655    1753\n",
       "1819  2018-12-29     36.0     47.0     42.0      655    1753\n",
       "1820  2018-12-30     39.0     52.0     46.0      656    1754\n",
       "\n",
       "[1821 rows x 6 columns]"
      ]
     },
     "execution_count": 3,
     "metadata": {},
     "output_type": "execute_result"
    }
   ],
   "source": [
    "df= pd.read_csv('DailyTemp.csv')\n",
    "df"
   ]
  },
  {
   "cell_type": "code",
   "execution_count": 4,
   "id": "76d75a80",
   "metadata": {
    "ExecuteTime": {
     "end_time": "2023-03-30T16:15:35.373254Z",
     "start_time": "2023-03-30T16:15:35.329156Z"
    }
   },
   "outputs": [
    {
     "name": "stdout",
     "output_type": "stream",
     "text": [
      "<class 'pandas.core.frame.DataFrame'>\n",
      "RangeIndex: 1821 entries, 0 to 1820\n",
      "Data columns (total 6 columns):\n",
      " #   Column   Non-Null Count  Dtype  \n",
      "---  ------   --------------  -----  \n",
      " 0   DATE     1821 non-null   object \n",
      " 1   MinTemp  1821 non-null   float64\n",
      " 2   MaxTemp  1821 non-null   float64\n",
      " 3   AvgTemp  1821 non-null   float64\n",
      " 4   Sunrise  1821 non-null   int64  \n",
      " 5   Sunset   1821 non-null   int64  \n",
      "dtypes: float64(3), int64(2), object(1)\n",
      "memory usage: 85.5+ KB\n"
     ]
    }
   ],
   "source": [
    "df.info()"
   ]
  },
  {
   "cell_type": "markdown",
   "id": "c2f91525",
   "metadata": {},
   "source": [
    "# Check Stationary of the data"
   ]
  },
  {
   "cell_type": "code",
   "execution_count": 5,
   "id": "599a89d5",
   "metadata": {
    "ExecuteTime": {
     "end_time": "2023-03-30T16:15:35.777679Z",
     "start_time": "2023-03-30T16:15:35.387154Z"
    }
   },
   "outputs": [
    {
     "data": {
      "text/plain": [
       "[<matplotlib.lines.Line2D at 0x26972cf8d90>]"
      ]
     },
     "execution_count": 5,
     "metadata": {},
     "output_type": "execute_result"
    },
    {
     "data": {
      "image/png": "[encoded data removed]",
      "text/plain": [
       "<Figure size 640x480 with 1 Axes>"
      ]
     },
     "metadata": {},
     "output_type": "display_data"
    }
   ],
   "source": [
    "plt.plot(df['AvgTemp'])"
   ]
  },
  {
   "cell_type": "markdown",
   "id": "bf009bac",
   "metadata": {},
   "source": [
    ". We can see that it seems to have somewhat od a constant mean around 45 and the fluctuations also seem to be more or less the \n",
    "same. however to be sure if the data is stationary or not "
   ]
  },
  {
   "cell_type": "code",
   "execution_count": 6,
   "id": "4e2cb394",
   "metadata": {
    "ExecuteTime": {
     "end_time": "2023-03-30T16:15:35.897293Z",
     "start_time": "2023-03-30T16:15:35.784777Z"
    }
   },
   "outputs": [
    {
     "data": {
      "text/plain": [
       "8.675937480199557e-09"
      ]
     },
     "execution_count": 6,
     "metadata": {},
     "output_type": "execute_result"
    }
   ],
   "source": [
    "adfuller(df['AvgTemp'])[1]"
   ]
  },
  {
   "cell_type": "markdown",
   "id": "ccecc64b",
   "metadata": {},
   "source": [
    ". if p < 0.05 ; data stationary\n",
    "\n",
    ". if p > 0.05 ; data is not stationary"
   ]
  },
  {
   "cell_type": "markdown",
   "id": "6d3e00d3",
   "metadata": {},
   "source": [
    ". According the p value the dataset is stationary as the p value is less than alpha value"
   ]
  },
  {
   "cell_type": "markdown",
   "id": "ead9573f",
   "metadata": {},
   "source": [
    "# Arima model building ."
   ]
  },
  {
   "cell_type": "markdown",
   "id": "6b0cce49",
   "metadata": {
    "ExecuteTime": {
     "end_time": "2023-03-30T16:13:44.069577Z",
     "start_time": "2023-03-30T16:13:44.055582Z"
    }
   },
   "source": [
    ".arima is composed of 3 terms(auto-regression)+(integreted)+ moving average (q)\n",
    ".first we need to find out order of arima model"
   ]
  },
  {
   "cell_type": "code",
   "execution_count": 7,
   "id": "5017f1e2",
   "metadata": {
    "ExecuteTime": {
     "end_time": "2023-03-30T16:15:35.920052Z",
     "start_time": "2023-03-30T16:15:35.906430Z"
    }
   },
   "outputs": [],
   "source": [
    "#find out the order of arima"
   ]
  },
  {
   "cell_type": "code",
   "execution_count": 8,
   "id": "c3276444",
   "metadata": {
    "ExecuteTime": {
     "end_time": "2023-03-30T16:16:39.197747Z",
     "start_time": "2023-03-30T16:15:35.926254Z"
    }
   },
   "outputs": [],
   "source": [
    "order=auto_arima(df['AvgTemp'])"
   ]
  },
  {
   "cell_type": "code",
   "execution_count": 9,
   "id": "c4f6f185",
   "metadata": {
    "ExecuteTime": {
     "end_time": "2023-03-30T16:16:39.230675Z",
     "start_time": "2023-03-30T16:16:39.203592Z"
    }
   },
   "outputs": [
    {
     "data": {
      "text/plain": [
       "ARIMA(order=(1, 0, 5), scoring_args={}, suppress_warnings=True)"
      ]
     },
     "execution_count": 9,
     "metadata": {},
     "output_type": "execute_result"
    }
   ],
   "source": [
    "order"
   ]
  },
  {
   "cell_type": "code",
   "execution_count": 10,
   "id": "6b068d06",
   "metadata": {
    "ExecuteTime": {
     "end_time": "2023-03-30T16:16:39.262769Z",
     "start_time": "2023-03-30T16:16:39.236911Z"
    }
   },
   "outputs": [
    {
     "data": {
      "text/plain": [
       "(1821, 6)"
      ]
     },
     "execution_count": 10,
     "metadata": {},
     "output_type": "execute_result"
    }
   ],
   "source": [
    "df.shape"
   ]
  },
  {
   "cell_type": "code",
   "execution_count": 11,
   "id": "c4f0cc12",
   "metadata": {
    "ExecuteTime": {
     "end_time": "2023-03-30T16:17:40.724913Z",
     "start_time": "2023-03-30T16:17:40.706088Z"
    }
   },
   "outputs": [],
   "source": [
    "# Split the data "
   ]
  },
  {
   "cell_type": "code",
   "execution_count": 12,
   "id": "ca36cfee",
   "metadata": {
    "ExecuteTime": {
     "end_time": "2023-03-30T16:18:09.207427Z",
     "start_time": "2023-03-30T16:18:09.192425Z"
    }
   },
   "outputs": [],
   "source": [
    "train=df.iloc[:-30]\n",
    "test=df.iloc[-30:]"
   ]
  },
  {
   "cell_type": "code",
   "execution_count": 13,
   "id": "ab1d1e4a",
   "metadata": {
    "ExecuteTime": {
     "end_time": "2023-03-30T16:18:22.807049Z",
     "start_time": "2023-03-30T16:18:22.794911Z"
    }
   },
   "outputs": [
    {
     "data": {
      "text/plain": [
       "(1821, 6)"
      ]
     },
     "execution_count": 13,
     "metadata": {},
     "output_type": "execute_result"
    }
   ],
   "source": [
    "df.shape"
   ]
  },
  {
   "cell_type": "code",
   "execution_count": 14,
   "id": "0ad1fef1",
   "metadata": {
    "ExecuteTime": {
     "end_time": "2023-03-30T16:18:28.896520Z",
     "start_time": "2023-03-30T16:18:28.880200Z"
    }
   },
   "outputs": [
    {
     "data": {
      "text/plain": [
       "(1791, 6)"
      ]
     },
     "execution_count": 14,
     "metadata": {},
     "output_type": "execute_result"
    }
   ],
   "source": [
    "train.shape"
   ]
  },
  {
   "cell_type": "code",
   "execution_count": 15,
   "id": "a1574976",
   "metadata": {
    "ExecuteTime": {
     "end_time": "2023-03-30T16:19:29.688773Z",
     "start_time": "2023-03-30T16:19:29.674029Z"
    }
   },
   "outputs": [],
   "source": [
    "#Arima model"
   ]
  },
  {
   "cell_type": "code",
   "execution_count": 17,
   "id": "8952cf73",
   "metadata": {
    "ExecuteTime": {
     "end_time": "2023-03-30T16:21:19.354602Z",
     "start_time": "2023-03-30T16:21:17.205648Z"
    }
   },
   "outputs": [],
   "source": [
    "model=ARIMA(train['AvgTemp'], order=(1,0,5)).fit()"
   ]
  },
  {
   "cell_type": "markdown",
   "id": "f1970df0",
   "metadata": {},
   "source": [
    "# Evaluating the model"
   ]
  },
  {
   "cell_type": "code",
   "execution_count": 18,
   "id": "b04c52ca",
   "metadata": {
    "ExecuteTime": {
     "end_time": "2023-03-30T16:21:51.466232Z",
     "start_time": "2023-03-30T16:21:51.418342Z"
    }
   },
   "outputs": [
    {
     "data": {
      "text/html": [
       "<div>\n",
       "<style scoped>\n",
       "    .dataframe tbody tr th:only-of-type {\n",
       "        vertical-align: middle;\n",
       "    }\n",
       "\n",
       "    .dataframe tbody tr th {\n",
       "        vertical-align: top;\n",
       "    }\n",
       "\n",
       "    .dataframe thead th {\n",
       "        text-align: right;\n",
       "    }\n",
       "</style>\n",
       "<table border=\"1\" class=\"dataframe\">\n",
       "  <thead>\n",
       "    <tr style=\"text-align: right;\">\n",
       "      <th></th>\n",
       "      <th>DATE</th>\n",
       "      <th>MinTemp</th>\n",
       "      <th>MaxTemp</th>\n",
       "      <th>AvgTemp</th>\n",
       "      <th>Sunrise</th>\n",
       "      <th>Sunset</th>\n",
       "    </tr>\n",
       "  </thead>\n",
       "  <tbody>\n",
       "    <tr>\n",
       "      <th>1791</th>\n",
       "      <td>2018-12-01</td>\n",
       "      <td>36.0</td>\n",
       "      <td>52.0</td>\n",
       "      <td>44.0</td>\n",
       "      <td>640</td>\n",
       "      <td>1743</td>\n",
       "    </tr>\n",
       "    <tr>\n",
       "      <th>1792</th>\n",
       "      <td>2018-12-02</td>\n",
       "      <td>33.0</td>\n",
       "      <td>51.0</td>\n",
       "      <td>42.0</td>\n",
       "      <td>641</td>\n",
       "      <td>1743</td>\n",
       "    </tr>\n",
       "    <tr>\n",
       "      <th>1793</th>\n",
       "      <td>2018-12-03</td>\n",
       "      <td>36.0</td>\n",
       "      <td>53.0</td>\n",
       "      <td>45.0</td>\n",
       "      <td>641</td>\n",
       "      <td>1743</td>\n",
       "    </tr>\n",
       "    <tr>\n",
       "      <th>1794</th>\n",
       "      <td>2018-12-04</td>\n",
       "      <td>39.0</td>\n",
       "      <td>56.0</td>\n",
       "      <td>48.0</td>\n",
       "      <td>642</td>\n",
       "      <td>1743</td>\n",
       "    </tr>\n",
       "    <tr>\n",
       "      <th>1795</th>\n",
       "      <td>2018-12-05</td>\n",
       "      <td>36.0</td>\n",
       "      <td>53.0</td>\n",
       "      <td>45.0</td>\n",
       "      <td>643</td>\n",
       "      <td>1743</td>\n",
       "    </tr>\n",
       "    <tr>\n",
       "      <th>1796</th>\n",
       "      <td>2018-12-06</td>\n",
       "      <td>36.0</td>\n",
       "      <td>52.0</td>\n",
       "      <td>44.0</td>\n",
       "      <td>643</td>\n",
       "      <td>1743</td>\n",
       "    </tr>\n",
       "    <tr>\n",
       "      <th>1797</th>\n",
       "      <td>2018-12-07</td>\n",
       "      <td>37.0</td>\n",
       "      <td>53.0</td>\n",
       "      <td>45.0</td>\n",
       "      <td>644</td>\n",
       "      <td>1744</td>\n",
       "    </tr>\n",
       "    <tr>\n",
       "      <th>1798</th>\n",
       "      <td>2018-12-08</td>\n",
       "      <td>34.0</td>\n",
       "      <td>53.0</td>\n",
       "      <td>44.0</td>\n",
       "      <td>645</td>\n",
       "      <td>1744</td>\n",
       "    </tr>\n",
       "    <tr>\n",
       "      <th>1799</th>\n",
       "      <td>2018-12-09</td>\n",
       "      <td>36.0</td>\n",
       "      <td>53.0</td>\n",
       "      <td>45.0</td>\n",
       "      <td>645</td>\n",
       "      <td>1744</td>\n",
       "    </tr>\n",
       "    <tr>\n",
       "      <th>1800</th>\n",
       "      <td>2018-12-10</td>\n",
       "      <td>36.0</td>\n",
       "      <td>55.0</td>\n",
       "      <td>46.0</td>\n",
       "      <td>646</td>\n",
       "      <td>1745</td>\n",
       "    </tr>\n",
       "    <tr>\n",
       "      <th>1801</th>\n",
       "      <td>2018-12-11</td>\n",
       "      <td>38.0</td>\n",
       "      <td>56.0</td>\n",
       "      <td>47.0</td>\n",
       "      <td>646</td>\n",
       "      <td>1745</td>\n",
       "    </tr>\n",
       "    <tr>\n",
       "      <th>1802</th>\n",
       "      <td>2018-12-12</td>\n",
       "      <td>39.0</td>\n",
       "      <td>54.0</td>\n",
       "      <td>47.0</td>\n",
       "      <td>647</td>\n",
       "      <td>1745</td>\n",
       "    </tr>\n",
       "    <tr>\n",
       "      <th>1803</th>\n",
       "      <td>2018-12-13</td>\n",
       "      <td>36.0</td>\n",
       "      <td>54.0</td>\n",
       "      <td>45.0</td>\n",
       "      <td>648</td>\n",
       "      <td>1746</td>\n",
       "    </tr>\n",
       "    <tr>\n",
       "      <th>1804</th>\n",
       "      <td>2018-12-14</td>\n",
       "      <td>36.0</td>\n",
       "      <td>56.0</td>\n",
       "      <td>46.0</td>\n",
       "      <td>648</td>\n",
       "      <td>1746</td>\n",
       "    </tr>\n",
       "    <tr>\n",
       "      <th>1805</th>\n",
       "      <td>2018-12-15</td>\n",
       "      <td>40.0</td>\n",
       "      <td>53.0</td>\n",
       "      <td>47.0</td>\n",
       "      <td>649</td>\n",
       "      <td>1746</td>\n",
       "    </tr>\n",
       "    <tr>\n",
       "      <th>1806</th>\n",
       "      <td>2018-12-16</td>\n",
       "      <td>40.0</td>\n",
       "      <td>57.0</td>\n",
       "      <td>49.0</td>\n",
       "      <td>649</td>\n",
       "      <td>1747</td>\n",
       "    </tr>\n",
       "    <tr>\n",
       "      <th>1807</th>\n",
       "      <td>2018-12-17</td>\n",
       "      <td>42.0</td>\n",
       "      <td>60.0</td>\n",
       "      <td>51.0</td>\n",
       "      <td>650</td>\n",
       "      <td>1747</td>\n",
       "    </tr>\n",
       "    <tr>\n",
       "      <th>1808</th>\n",
       "      <td>2018-12-18</td>\n",
       "      <td>35.0</td>\n",
       "      <td>51.0</td>\n",
       "      <td>43.0</td>\n",
       "      <td>650</td>\n",
       "      <td>1748</td>\n",
       "    </tr>\n",
       "    <tr>\n",
       "      <th>1809</th>\n",
       "      <td>2018-12-19</td>\n",
       "      <td>32.0</td>\n",
       "      <td>51.0</td>\n",
       "      <td>42.0</td>\n",
       "      <td>651</td>\n",
       "      <td>1748</td>\n",
       "    </tr>\n",
       "    <tr>\n",
       "      <th>1810</th>\n",
       "      <td>2018-12-20</td>\n",
       "      <td>37.0</td>\n",
       "      <td>58.0</td>\n",
       "      <td>48.0</td>\n",
       "      <td>651</td>\n",
       "      <td>1749</td>\n",
       "    </tr>\n",
       "    <tr>\n",
       "      <th>1811</th>\n",
       "      <td>2018-12-21</td>\n",
       "      <td>42.0</td>\n",
       "      <td>57.0</td>\n",
       "      <td>50.0</td>\n",
       "      <td>652</td>\n",
       "      <td>1749</td>\n",
       "    </tr>\n",
       "    <tr>\n",
       "      <th>1812</th>\n",
       "      <td>2018-12-22</td>\n",
       "      <td>40.0</td>\n",
       "      <td>54.0</td>\n",
       "      <td>47.0</td>\n",
       "      <td>652</td>\n",
       "      <td>1750</td>\n",
       "    </tr>\n",
       "    <tr>\n",
       "      <th>1813</th>\n",
       "      <td>2018-12-23</td>\n",
       "      <td>39.0</td>\n",
       "      <td>55.0</td>\n",
       "      <td>47.0</td>\n",
       "      <td>653</td>\n",
       "      <td>1750</td>\n",
       "    </tr>\n",
       "    <tr>\n",
       "      <th>1814</th>\n",
       "      <td>2018-12-24</td>\n",
       "      <td>36.0</td>\n",
       "      <td>52.0</td>\n",
       "      <td>44.0</td>\n",
       "      <td>653</td>\n",
       "      <td>1751</td>\n",
       "    </tr>\n",
       "    <tr>\n",
       "      <th>1815</th>\n",
       "      <td>2018-12-25</td>\n",
       "      <td>36.0</td>\n",
       "      <td>48.0</td>\n",
       "      <td>42.0</td>\n",
       "      <td>654</td>\n",
       "      <td>1751</td>\n",
       "    </tr>\n",
       "    <tr>\n",
       "      <th>1816</th>\n",
       "      <td>2018-12-26</td>\n",
       "      <td>35.0</td>\n",
       "      <td>45.0</td>\n",
       "      <td>40.0</td>\n",
       "      <td>654</td>\n",
       "      <td>1752</td>\n",
       "    </tr>\n",
       "    <tr>\n",
       "      <th>1817</th>\n",
       "      <td>2018-12-27</td>\n",
       "      <td>33.0</td>\n",
       "      <td>44.0</td>\n",
       "      <td>39.0</td>\n",
       "      <td>655</td>\n",
       "      <td>1752</td>\n",
       "    </tr>\n",
       "    <tr>\n",
       "      <th>1818</th>\n",
       "      <td>2018-12-28</td>\n",
       "      <td>33.0</td>\n",
       "      <td>47.0</td>\n",
       "      <td>40.0</td>\n",
       "      <td>655</td>\n",
       "      <td>1753</td>\n",
       "    </tr>\n",
       "    <tr>\n",
       "      <th>1819</th>\n",
       "      <td>2018-12-29</td>\n",
       "      <td>36.0</td>\n",
       "      <td>47.0</td>\n",
       "      <td>42.0</td>\n",
       "      <td>655</td>\n",
       "      <td>1753</td>\n",
       "    </tr>\n",
       "    <tr>\n",
       "      <th>1820</th>\n",
       "      <td>2018-12-30</td>\n",
       "      <td>39.0</td>\n",
       "      <td>52.0</td>\n",
       "      <td>46.0</td>\n",
       "      <td>656</td>\n",
       "      <td>1754</td>\n",
       "    </tr>\n",
       "  </tbody>\n",
       "</table>\n",
       "</div>"
      ],
      "text/plain": [
       "            DATE  MinTemp  MaxTemp  AvgTemp  Sunrise  Sunset\n",
       "1791  2018-12-01     36.0     52.0     44.0      640    1743\n",
       "1792  2018-12-02     33.0     51.0     42.0      641    1743\n",
       "1793  2018-12-03     36.0     53.0     45.0      641    1743\n",
       "1794  2018-12-04     39.0     56.0     48.0      642    1743\n",
       "1795  2018-12-05     36.0     53.0     45.0      643    1743\n",
       "1796  2018-12-06     36.0     52.0     44.0      643    1743\n",
       "1797  2018-12-07     37.0     53.0     45.0      644    1744\n",
       "1798  2018-12-08     34.0     53.0     44.0      645    1744\n",
       "1799  2018-12-09     36.0     53.0     45.0      645    1744\n",
       "1800  2018-12-10     36.0     55.0     46.0      646    1745\n",
       "1801  2018-12-11     38.0     56.0     47.0      646    1745\n",
       "1802  2018-12-12     39.0     54.0     47.0      647    1745\n",
       "1803  2018-12-13     36.0     54.0     45.0      648    1746\n",
       "1804  2018-12-14     36.0     56.0     46.0      648    1746\n",
       "1805  2018-12-15     40.0     53.0     47.0      649    1746\n",
       "1806  2018-12-16     40.0     57.0     49.0      649    1747\n",
       "1807  2018-12-17     42.0     60.0     51.0      650    1747\n",
       "1808  2018-12-18     35.0     51.0     43.0      650    1748\n",
       "1809  2018-12-19     32.0     51.0     42.0      651    1748\n",
       "1810  2018-12-20     37.0     58.0     48.0      651    1749\n",
       "1811  2018-12-21     42.0     57.0     50.0      652    1749\n",
       "1812  2018-12-22     40.0     54.0     47.0      652    1750\n",
       "1813  2018-12-23     39.0     55.0     47.0      653    1750\n",
       "1814  2018-12-24     36.0     52.0     44.0      653    1751\n",
       "1815  2018-12-25     36.0     48.0     42.0      654    1751\n",
       "1816  2018-12-26     35.0     45.0     40.0      654    1752\n",
       "1817  2018-12-27     33.0     44.0     39.0      655    1752\n",
       "1818  2018-12-28     33.0     47.0     40.0      655    1753\n",
       "1819  2018-12-29     36.0     47.0     42.0      655    1753\n",
       "1820  2018-12-30     39.0     52.0     46.0      656    1754"
      ]
     },
     "execution_count": 18,
     "metadata": {},
     "output_type": "execute_result"
    }
   ],
   "source": [
    "test"
   ]
  },
  {
   "cell_type": "code",
   "execution_count": 19,
   "id": "fb5184aa",
   "metadata": {
    "ExecuteTime": {
     "end_time": "2023-03-30T16:22:50.874986Z",
     "start_time": "2023-03-30T16:22:50.850495Z"
    }
   },
   "outputs": [
    {
     "data": {
      "text/plain": [
       "1791    44.754109\n",
       "1792    44.987795\n",
       "1793    45.388741\n",
       "1794    45.721545\n",
       "1795    45.863733\n",
       "1796    45.874126\n",
       "1797    45.884370\n",
       "1798    45.894466\n",
       "1799    45.904417\n",
       "1800    45.914225\n",
       "1801    45.923891\n",
       "1802    45.933418\n",
       "1803    45.942809\n",
       "1804    45.952063\n",
       "1805    45.961185\n",
       "1806    45.970175\n",
       "1807    45.979036\n",
       "1808    45.987770\n",
       "1809    45.996377\n",
       "1810    46.004861\n",
       "1811    46.013222\n",
       "1812    46.021463\n",
       "1813    46.029586\n",
       "1814    46.037591\n",
       "1815    46.045481\n",
       "1816    46.053258\n",
       "1817    46.060923\n",
       "1818    46.068477\n",
       "1819    46.075923\n",
       "1820    46.083261\n",
       "Name: predicted_mean, dtype: float64"
      ]
     },
     "execution_count": 19,
     "metadata": {},
     "output_type": "execute_result"
    }
   ],
   "source": [
    "ypred=model.predict(start=1791, end=1820)\n",
    "ypred"
   ]
  },
  {
   "cell_type": "code",
   "execution_count": 21,
   "id": "187ab60b",
   "metadata": {
    "ExecuteTime": {
     "end_time": "2023-03-30T16:24:03.714835Z",
     "start_time": "2023-03-30T16:24:03.696431Z"
    }
   },
   "outputs": [
    {
     "name": "stdout",
     "output_type": "stream",
     "text": [
      "3.0004638566731523\n"
     ]
    }
   ],
   "source": [
    "print(np.sqrt(mean_squared_error(test['AvgTemp'],ypred)))"
   ]
  },
  {
   "cell_type": "code",
   "execution_count": null,
   "id": "5ccd546f",
   "metadata": {},
   "outputs": [],
   "source": []
  }
 ],
 "metadata": {
  "kernelspec": {
   "display_name": "Python 3 (ipykernel)",
   "language": "python",
   "name": "python3"
  },
  "language_info": {
   "codemirror_mode": {
    "name": "ipython",
    "version": 3
   },
   "file_extension": ".py",
   "mimetype": "text/x-python",
   "name": "python",
   "nbconvert_exporter": "python",
   "pygments_lexer": "ipython3",
   "version": "3.9.13"
  }
 },
 "nbformat": 4,
 "nbformat_minor": 5
}
